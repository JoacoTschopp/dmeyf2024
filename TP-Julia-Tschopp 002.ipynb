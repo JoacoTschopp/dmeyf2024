{
 "cells": [
  {
   "cell_type": "code",
   "execution_count": 175,
   "metadata": {},
   "outputs": [],
   "source": [
    "using CSV,  DataFrames\n",
    "using BenchmarkTools"
   ]
  },
  {
   "cell_type": "code",
   "execution_count": 176,
   "metadata": {},
   "outputs": [
    {
     "data": {
      "text/plain": [
       "(981946, 154)"
      ]
     },
     "metadata": {},
     "output_type": "display_data"
    }
   ],
   "source": [
    "periodo_anterior(x::Integer) =  x % 100 > 1  ?  x-1  : 12 + (div(x,100) -1) * 100\n",
    "\n",
    "df = CSV.read(\"G:/Mi unidad/01-Maestria Ciencia de Datos/DMEyF/competencia_01_crudo.csv\", DataFrame)\n",
    "size(df)"
   ]
  },
  {
   "cell_type": "code",
   "execution_count": 178,
   "metadata": {},
   "outputs": [
    {
     "data": {
      "text/plain": [
       "BenchmarkTools.Trial: 7 samples with 1 evaluation.\n",
       " Range \u001b[90m(\u001b[39m\u001b[36m\u001b[1mmin\u001b[22m\u001b[39m … \u001b[35mmax\u001b[39m\u001b[90m):  \u001b[39m\u001b[36m\u001b[1m750.308 ms\u001b[22m\u001b[39m … \u001b[35m908.056 ms\u001b[39m  \u001b[90m┊\u001b[39m GC \u001b[90m(\u001b[39mmin … max\u001b[90m): \u001b[39m1.65% … 17.86%\n",
       " Time  \u001b[90m(\u001b[39m\u001b[34m\u001b[1mmedian\u001b[22m\u001b[39m\u001b[90m):     \u001b[39m\u001b[34m\u001b[1m765.542 ms               \u001b[22m\u001b[39m\u001b[90m┊\u001b[39m GC \u001b[90m(\u001b[39mmedian\u001b[90m):    \u001b[39m1.81%\n",
       " Time  \u001b[90m(\u001b[39m\u001b[32m\u001b[1mmean\u001b[22m\u001b[39m ± \u001b[32mσ\u001b[39m\u001b[90m):   \u001b[39m\u001b[32m\u001b[1m801.069 ms\u001b[22m\u001b[39m ± \u001b[32m 73.102 ms\u001b[39m  \u001b[90m┊\u001b[39m GC \u001b[90m(\u001b[39mmean ± σ\u001b[90m):  \u001b[39m7.01% ±  7.87%\n",
       "\n",
       "  \u001b[34m█\u001b[39m\u001b[39m \u001b[39m \u001b[39m \u001b[39m \u001b[39m \u001b[39m \u001b[39m \u001b[39m \u001b[39m \u001b[39m \u001b[39m \u001b[39m \u001b[39m \u001b[39m \u001b[39m \u001b[39m \u001b[39m \u001b[39m \u001b[39m \u001b[32m \u001b[39m\u001b[39m \u001b[39m \u001b[39m \u001b[39m \u001b[39m \u001b[39m \u001b[39m \u001b[39m \u001b[39m \u001b[39m \u001b[39m \u001b[39m \u001b[39m \u001b[39m \u001b[39m \u001b[39m \u001b[39m \u001b[39m \u001b[39m \u001b[39m \u001b[39m \u001b[39m \u001b[39m \u001b[39m \u001b[39m \u001b[39m \u001b[39m \u001b[39m \u001b[39m \u001b[39m \u001b[39m \u001b[39m \u001b[39m \u001b[39m \u001b[39m \u001b[39m \u001b[39m \u001b[39m \u001b[39m \u001b[39m▃\u001b[39m \u001b[39m \n",
       "  \u001b[34m█\u001b[39m\u001b[39m▁\u001b[39m▁\u001b[39m▁\u001b[39m▁\u001b[39m▇\u001b[39m▁\u001b[39m▁\u001b[39m▁\u001b[39m▇\u001b[39m▁\u001b[39m▁\u001b[39m▁\u001b[39m▁\u001b[39m▁\u001b[39m▁\u001b[39m▁\u001b[39m▁\u001b[39m▁\u001b[39m▁\u001b[32m▁\u001b[39m\u001b[39m▁\u001b[39m▁\u001b[39m▁\u001b[39m▁\u001b[39m▁\u001b[39m▁\u001b[39m▁\u001b[39m▁\u001b[39m▁\u001b[39m▁\u001b[39m▁\u001b[39m▁\u001b[39m▁\u001b[39m▁\u001b[39m▁\u001b[39m▁\u001b[39m▁\u001b[39m▁\u001b[39m▁\u001b[39m▁\u001b[39m▁\u001b[39m▁\u001b[39m▁\u001b[39m▁\u001b[39m▁\u001b[39m▁\u001b[39m▁\u001b[39m▁\u001b[39m▁\u001b[39m▁\u001b[39m▁\u001b[39m▁\u001b[39m▁\u001b[39m▁\u001b[39m▁\u001b[39m▁\u001b[39m▁\u001b[39m▁\u001b[39m▁\u001b[39m█\u001b[39m \u001b[39m▁\n",
       "  750 ms\u001b[90m           Histogram: frequency by time\u001b[39m          908 ms \u001b[0m\u001b[1m<\u001b[22m\n",
       "\n",
       " Memory estimate\u001b[90m: \u001b[39m\u001b[33m470.33 MiB\u001b[39m, allocs estimate\u001b[90m: \u001b[39m\u001b[33m26650399\u001b[39m."
      ]
     },
     "metadata": {},
     "output_type": "display_data"
    }
   ],
   "source": [
    "sort!(df, [:numero_de_cliente, :foto_mes])\n",
    "\n",
    "global periodo_ultimo = maximum( df.foto_mes )\n",
    "global periodo_anteultimo = periodo_anterior( periodo_ultimo)\n",
    "\n",
    "# assign most common class values\n",
    "df.clase_ternaria = @. ifelse( df.foto_mes < periodo_anteultimo, \"CONTINUA\", missing )\n",
    "\n",
    "# pre compute sequential time\n",
    "periodo = @. div(df.foto_mes,100)*12 + df.foto_mes%100\n",
    "\n",
    "global last = nrow(df)\n",
    "\n",
    "for i in 1:last\n",
    "  if df.foto_mes[i] <= periodo_anteultimo &&  i < last &&\n",
    "        ( df.numero_de_cliente[i] != df.numero_de_cliente[i+1]  ||  df.numero_de_cliente[i] == df.numero_de_cliente[i+1] && periodo[i+1]  > periodo[i] +1)\n",
    "          df.clase_ternaria[i] = \"BAJA+1\"\n",
    "  end\n",
    "\n",
    "  if df.foto_mes[i] < periodo_anteultimo &&  i+1 < last && df.numero_de_cliente[i] == df.numero_de_cliente[i+1] &&  periodo[i+1] == periodo[i] +1 &&\n",
    "        ( df.numero_de_cliente[i+1] != df.numero_de_cliente[i+2]  || df.numero_de_cliente[i+1] == df.numero_de_cliente[i+2] && periodo[i+2]  > periodo[i+1] +2)\n",
    "          df.clase_ternaria[i] = \"BAJA+2\"\n",
    "  end\n",
    "end\n",
    "\n"
   ]
  },
  {
   "cell_type": "code",
   "execution_count": 174,
   "metadata": {},
   "outputs": [
    {
     "data": {
      "text/plain": [
       "\"G:/Mi unidad/01-Maestria Ciencia de Datos/DMEyF/competencia_01_julia01.csv\""
      ]
     },
     "metadata": {},
     "output_type": "display_data"
    }
   ],
   "source": [
    "CSV.write( \"G:/Mi unidad/01-Maestria Ciencia de Datos/DMEyF/competencia_01_julia01.csv\", df )"
   ]
  },
  {
   "cell_type": "markdown",
   "metadata": {},
   "source": [
    "# 1. Entrenameinto"
   ]
  },
  {
   "cell_type": "code",
   "execution_count": 122,
   "metadata": {},
   "outputs": [
    {
     "name": "stdout",
     "output_type": "stream",
     "text": [
      "import MLJDecisionTreeInterface ✔\n"
     ]
    },
    {
     "name": "stderr",
     "output_type": "stream",
     "text": [
      "┌ Info: For silent loading, specify `verbosity=0`. \n",
      "└ @ Main C:\\Users\\tschoppj\\.julia\\packages\\MLJModels\\ziReN\\src\\loading.jl:159\n"
     ]
    }
   ],
   "source": [
    "using CSV,  DataFrames\n",
    "#using DecisionTree\n",
    "using MLJ\n",
    "Tree = @load DecisionTreeClassifier pkg=DecisionTree\n",
    "using CategoricalArrays"
   ]
  },
  {
   "cell_type": "code",
   "execution_count": 187,
   "metadata": {},
   "outputs": [
    {
     "data": {
      "text/plain": [
       "155-element Vector{String}:\n",
       " \"numero_de_cliente\"\n",
       " \"foto_mes\"\n",
       " \"active_quarter\"\n",
       " \"cliente_vip\"\n",
       " \"internet\"\n",
       " \"cliente_edad\"\n",
       " \"cliente_antiguedad\"\n",
       " \"mrentabilidad\"\n",
       " \"mrentabilidad_annual\"\n",
       " \"mcomisiones\"\n",
       " ⋮\n",
       " \"Visa_mpagado\"\n",
       " \"Visa_mpagospesos\"\n",
       " \"Visa_mpagosdolares\"\n",
       " \"Visa_fechaalta\"\n",
       " \"Visa_mconsumototal\"\n",
       " \"Visa_cconsumos\"\n",
       " \"Visa_cadelantosefectivo\"\n",
       " \"Visa_mpagominimo\"\n",
       " \"clase_ternaria\""
      ]
     },
     "metadata": {},
     "output_type": "display_data"
    }
   ],
   "source": [
    "df = CSV.read(\"G:/Mi unidad/01-Maestria Ciencia de Datos/DMEyF/competencia_01_julia.csv\", DataFrame)\n",
    "\n",
    "names(df)"
   ]
  },
  {
   "cell_type": "code",
   "execution_count": 188,
   "metadata": {},
   "outputs": [
    {
     "data": {
      "text/plain": [
       "169481"
      ]
     },
     "metadata": {},
     "output_type": "display_data"
    }
   ],
   "source": [
    "count_cliente = length(unique(df.numero_de_cliente))"
   ]
  },
  {
   "cell_type": "code",
   "execution_count": 189,
   "metadata": {},
   "outputs": [
    {
     "name": "stdout",
     "output_type": "stream",
     "text": [
      "Any[263751894, 304051318, 351895410, 445822700, 493399293, 555298549, 559063769, 583196648, 644687585, 675442310, 832767503, 855499233, 885810926, 893574159, 933210746, 1179226843, 1302790375, 1389447490, 1435040696, 1460648156, 1471746344, 1524390423, 1549075943]\n"
     ]
    },
    {
     "data": {
      "text/plain": [
       "BenchmarkTools.Trial: 36 samples with 1 evaluation.\n",
       " Range \u001b[90m(\u001b[39m\u001b[36m\u001b[1mmin\u001b[22m\u001b[39m … \u001b[35mmax\u001b[39m\u001b[90m):  \u001b[39m\u001b[36m\u001b[1m 93.619 ms\u001b[22m\u001b[39m … \u001b[35m231.728 ms\u001b[39m  \u001b[90m┊\u001b[39m GC \u001b[90m(\u001b[39mmin … max\u001b[90m): \u001b[39m 7.37% … 59.00%\n",
       " Time  \u001b[90m(\u001b[39m\u001b[34m\u001b[1mmedian\u001b[22m\u001b[39m\u001b[90m):     \u001b[39m\u001b[34m\u001b[1m120.028 ms               \u001b[22m\u001b[39m\u001b[90m┊\u001b[39m GC \u001b[90m(\u001b[39mmedian\u001b[90m):    \u001b[39m26.29%\n",
       " Time  \u001b[90m(\u001b[39m\u001b[32m\u001b[1mmean\u001b[22m\u001b[39m ± \u001b[32mσ\u001b[39m\u001b[90m):   \u001b[39m\u001b[32m\u001b[1m141.345 ms\u001b[22m\u001b[39m ± \u001b[32m 53.870 ms\u001b[39m  \u001b[90m┊\u001b[39m GC \u001b[90m(\u001b[39mmean ± σ\u001b[90m):  \u001b[39m38.17% ± 21.22%\n",
       "\n",
       "  \u001b[39m█\u001b[39m \u001b[39m \u001b[39m \u001b[39m \u001b[39m \u001b[39m \u001b[39m \u001b[39m \u001b[39m \u001b[39m \u001b[39m▁\u001b[34m \u001b[39m\u001b[39m \u001b[39m \u001b[39m \u001b[39m \u001b[39m \u001b[39m \u001b[39m \u001b[39m \u001b[32m \u001b[39m\u001b[39m \u001b[39m \u001b[39m \u001b[39m \u001b[39m \u001b[39m \u001b[39m \u001b[39m \u001b[39m \u001b[39m \u001b[39m \u001b[39m \u001b[39m \u001b[39m \u001b[39m \u001b[39m \u001b[39m \u001b[39m \u001b[39m \u001b[39m \u001b[39m \u001b[39m \u001b[39m \u001b[39m \u001b[39m \u001b[39m \u001b[39m \u001b[39m \u001b[39m \u001b[39m \u001b[39m \u001b[39m \u001b[39m \u001b[39m \u001b[39m \u001b[39m \u001b[39m \u001b[39m \u001b[39m \u001b[39m \u001b[39m \n",
       "  \u001b[39m█\u001b[39m▃\u001b[39m▁\u001b[39m▁\u001b[39m▁\u001b[39m▁\u001b[39m▁\u001b[39m▁\u001b[39m▁\u001b[39m▁\u001b[39m▄\u001b[39m█\u001b[34m▇\u001b[39m\u001b[39m▁\u001b[39m▁\u001b[39m▁\u001b[39m▁\u001b[39m▁\u001b[39m▁\u001b[39m▁\u001b[39m▁\u001b[32m▁\u001b[39m\u001b[39m▁\u001b[39m▁\u001b[39m▁\u001b[39m▁\u001b[39m▁\u001b[39m▁\u001b[39m▁\u001b[39m▁\u001b[39m▁\u001b[39m▁\u001b[39m▁\u001b[39m▁\u001b[39m▁\u001b[39m▁\u001b[39m▁\u001b[39m▁\u001b[39m▁\u001b[39m▁\u001b[39m▁\u001b[39m▁\u001b[39m▁\u001b[39m▁\u001b[39m▁\u001b[39m▁\u001b[39m▁\u001b[39m▁\u001b[39m▁\u001b[39m▁\u001b[39m▁\u001b[39m▁\u001b[39m▁\u001b[39m▆\u001b[39m▄\u001b[39m▆\u001b[39m▃\u001b[39m▁\u001b[39m▁\u001b[39m▃\u001b[39m▃\u001b[39m \u001b[39m▁\n",
       "  93.6 ms\u001b[90m          Histogram: frequency by time\u001b[39m          232 ms \u001b[0m\u001b[1m<\u001b[22m\n",
       "\n",
       " Memory estimate\u001b[90m: \u001b[39m\u001b[33m145.84 MiB\u001b[39m, allocs estimate\u001b[90m: \u001b[39m\u001b[33m2540128\u001b[39m."
      ]
     },
     "metadata": {},
     "output_type": "display_data"
    }
   ],
   "source": [
    "function encontrar_registros_faltantes(df)\n",
    "    registros_faltantes = []\n",
    "    grupos = groupby(df, :numero_de_cliente)\n",
    "\n",
    "    for grupo in grupos\n",
    "        registros_cliente = grupo.foto_mes\n",
    "        registros_cliente = sort(registros_cliente)\n",
    "\n",
    "        if length(registros_cliente) == 6 && all(diff(registros_cliente) .== 1)\n",
    "            continue\n",
    "        end\n",
    "        if length(registros_cliente) == 5 && (registros_cliente[1] == registros_cliente[end] - 4 || registros_cliente[end] == registros_cliente[1] + 4)\n",
    "            continue\n",
    "        end\n",
    "        if any(diff(registros_cliente) .> 1) \n",
    "            push!(registros_faltantes, (grupo.numero_de_cliente[1]))\n",
    "        end\n",
    "    end\n",
    "\n",
    "    return registros_faltantes\n",
    "end\n",
    "\n",
    "registros_faltantes = encontrar_registros_faltantes(df)\n",
    "println(registros_faltantes)\n",
    "\n",
    "@benchmark encontrar_registros_faltantes(df)"
   ]
  },
  {
   "cell_type": "code",
   "execution_count": 190,
   "metadata": {},
   "outputs": [
    {
     "name": "stdout",
     "output_type": "stream",
     "text": [
      "23\n"
     ]
    },
    {
     "data": {
      "text/plain": [
       "23-element Vector{Int64}:\n",
       "  263751894\n",
       "  304051318\n",
       "  351895410\n",
       "  445822700\n",
       "  493399293\n",
       "  555298549\n",
       "  559063769\n",
       "  583196648\n",
       "  644687585\n",
       "  675442310\n",
       "          ⋮\n",
       "  933210746\n",
       " 1179226843\n",
       " 1302790375\n",
       " 1389447490\n",
       " 1435040696\n",
       " 1460648156\n",
       " 1471746344\n",
       " 1524390423\n",
       " 1549075943"
      ]
     },
     "metadata": {},
     "output_type": "display_data"
    }
   ],
   "source": [
    "println(length(registros_faltantes))\n",
    "registros_faltantes = [Int64(x) for x in registros_faltantes]"
   ]
  },
  {
   "cell_type": "code",
   "execution_count": 192,
   "metadata": {},
   "outputs": [
    {
     "name": "stdout",
     "output_type": "stream",
     "text": [
      "cantidad de registros de Train: (652447, 155)\n",
      "cantidad de registros de Train: (652383, 155)\n",
      "\u001b[1m154×2 DataFrame\u001b[0m\n",
      "\u001b[1m Row \u001b[0m│\u001b[1m columna                           \u001b[0m\u001b[1m valores_faltantes \u001b[0m\n",
      "     │\u001b[90m String                            \u001b[0m\u001b[90m Int64             \u001b[0m\n",
      "─────┼──────────────────────────────────────────────────────\n",
      "   1 │ numero_de_cliente                                  0\n",
      "   2 │ foto_mes                                           0\n",
      "   3 │ active_quarter                                     0\n",
      "   4 │ cliente_vip                                        0\n",
      "   5 │ internet                                           0\n",
      "   6 │ cliente_edad                                       0\n",
      "   7 │ cliente_antiguedad                                 0\n",
      "   8 │ mrentabilidad                                      0\n",
      "   9 │ mrentabilidad_annual                               0\n",
      "  10 │ mcomisiones                                        0\n",
      "  11 │ mactivos_margen                                    0\n",
      "  12 │ mpasivos_margen                                    0\n",
      "  13 │ cproductos                                         0\n",
      "  14 │ tcuentas                                           0\n",
      "  15 │ ccuenta_corriente                                  0\n",
      "  16 │ mcuenta_corriente_adicional                        0\n",
      "  17 │ mcuenta_corriente                                  0\n",
      "  18 │ ccaja_ahorro                                       0\n",
      "  19 │ mcaja_ahorro                                       0\n",
      "  20 │ mcaja_ahorro_adicional                             0\n",
      "  21 │ mcaja_ahorro_dolares                               0\n",
      "  22 │ cdescubierto_preacordado                           0\n",
      "  23 │ mcuentas_saldo                                     0\n",
      "  24 │ ctarjeta_debito                                    0\n",
      "  25 │ ctarjeta_debito_transacciones                      0\n",
      "  26 │ mautoservicio                                      0\n",
      "  27 │ ctarjeta_visa                                      0\n",
      "  28 │ ctarjeta_visa_transacciones                        0\n",
      "  29 │ mtarjeta_visa_consumo                              0\n",
      "  30 │ ctarjeta_master                                    0\n",
      "  31 │ ctarjeta_master_transacciones                      0\n",
      "  32 │ mtarjeta_master_consumo                            0\n",
      "  33 │ cprestamos_personales                              0\n",
      "  34 │ mprestamos_personales                              0\n",
      "  35 │ cprestamos_prendarios                              0\n",
      "  36 │ mprestamos_prendarios                              0\n",
      "  37 │ cprestamos_hipotecarios                            0\n",
      "  38 │ mprestamos_hipotecarios                            0\n",
      "  39 │ cplazo_fijo                                        0\n",
      "  40 │ mplazo_fijo_dolares                                0\n",
      "  41 │ mplazo_fijo_pesos                                  0\n",
      "  42 │ cinversion1                                        0\n",
      "  43 │ minversion1_pesos                                  0\n",
      "  44 │ minversion1_dolares                                0\n",
      "  45 │ cinversion2                                        0\n",
      "  46 │ minversion2                                        0\n",
      "  47 │ cseguro_vida                                       0\n",
      "  48 │ cseguro_auto                                       0\n",
      "  49 │ cseguro_vivienda                                   0\n",
      "  50 │ cseguro_accidentes_personales                      0\n",
      "  51 │ ccaja_seguridad                                    0\n",
      "  52 │ cpayroll_trx                                       0\n",
      "  53 │ mpayroll                                           0\n",
      "  54 │ mpayroll2                                          0\n",
      "  55 │ cpayroll2_trx                                      0\n",
      "  56 │ ccuenta_debitos_automaticos                        0\n",
      "  57 │ mcuenta_debitos_automaticos                        0\n",
      "  58 │ ctarjeta_visa_debitos_automaticos                  0\n",
      "  59 │ mttarjeta_visa_debitos_automatic…                  0\n",
      "  60 │ ctarjeta_master_debitos_automati…                  0\n",
      "  61 │ mttarjeta_master_debitos_automat…                  0\n",
      "  62 │ cpagodeservicios                                   0\n",
      "  63 │ mpagodeservicios                                   0\n",
      "  64 │ cpagomiscuentas                                    0\n",
      "  65 │ mpagomiscuentas                                    0\n",
      "  66 │ ccajeros_propios_descuentos                        0\n",
      "  67 │ mcajeros_propios_descuentos                        0\n",
      "  68 │ ctarjeta_visa_descuentos                           0\n",
      "  69 │ mtarjeta_visa_descuentos                       10429\n",
      "  70 │ ctarjeta_master_descuentos                         0\n",
      "  71 │ mtarjeta_master_descuentos                     14100\n",
      "  72 │ ccomisiones_mantenimiento                          0\n",
      "  73 │ mcomisiones_mantenimiento                          0\n",
      "  74 │ ccomisiones_otras                                  0\n",
      "  75 │ mcomisiones_otras                                  0\n",
      "  76 │ cforex                                             0\n",
      "  77 │ cforex_buy                                         0\n",
      "  78 │ mforex_buy                                         0\n",
      "  79 │ cforex_sell                                        0\n",
      "  80 │ mforex_sell                                        0\n",
      "  81 │ ctransferencias_recibidas                          0\n",
      "  82 │ mtransferencias_recibidas                          0\n",
      "  83 │ ctransferencias_emitidas                           0\n",
      "  84 │ mtransferencias_emitidas                           0\n",
      "  85 │ cextraccion_autoservicio                           0\n",
      "  86 │ mextraccion_autoservicio                           0\n",
      "  87 │ ccheques_depositados                               0\n",
      "  88 │ mcheques_depositados                               0\n",
      "  89 │ ccheques_emitidos                                  0\n",
      "  90 │ mcheques_emitidos                                  0\n",
      "  91 │ ccheques_depositados_rechazados                    0\n",
      "  92 │ mcheques_depositados_rechazados                    0\n",
      "  93 │ ccheques_emitidos_rechazados                       0\n",
      "  94 │ mcheques_emitidos_rechazados                       0\n",
      "  95 │ tcallcenter                                        0\n",
      "  96 │ ccallcenter_transacciones                          0\n",
      "  97 │ thomebanking                                       0\n",
      "  98 │ chomebanking_transacciones                         0\n",
      "  99 │ ccajas_transacciones                               0\n",
      " 100 │ ccajas_consultas                                   0\n",
      " 101 │ ccajas_depositos                                   0\n",
      " 102 │ ccajas_extracciones                                0\n",
      " 103 │ ccajas_otras                                       0\n",
      " 104 │ catm_trx                                           0\n",
      " 105 │ matm                                               0\n",
      " 106 │ catm_trx_other                                     0\n",
      " 107 │ matm_other                                         0\n",
      " 108 │ ctrx_quarter                                       0\n",
      " 109 │ tmobile_app                                        0\n",
      " 110 │ cmobile_app_trx                                    0\n",
      " 111 │ Master_delinquency                             67815\n",
      " 112 │ Master_status                                  67815\n",
      " 113 │ Master_mfinanciacion_limite                    67815\n",
      " 114 │ Master_Fvencimiento                            67815\n",
      " 115 │ Master_Finiciomora                            648985\n",
      " 116 │ Master_msaldototal                             67815\n",
      " 117 │ Master_msaldopesos                             67815\n",
      " 118 │ Master_msaldodolares                           67815\n",
      " 119 │ Master_mconsumospesos                         392256\n",
      " 120 │ Master_mconsumosdolares                       392256\n",
      " 121 │ Master_mlimitecompra                           67815\n",
      " 122 │ Master_madelantopesos                         392256\n",
      " 123 │ Master_madelantodolares                       392256\n",
      " 124 │ Master_fultimo_cierre                          68038\n",
      " 125 │ Master_mpagado                                 67815\n",
      " 126 │ Master_mpagospesos                            392256\n",
      " 127 │ Master_mpagosdolares                          392256\n",
      " 128 │ Master_fechaalta                               67815\n",
      " 129 │ Master_mconsumototal                          392256\n",
      " 130 │ Master_cconsumos                              392256\n",
      " 131 │ Master_cadelantosefectivo                     392256\n",
      " 132 │ Master_mpagominimo                             67815\n",
      " 133 │ Visa_delinquency                               32329\n",
      " 134 │ Visa_status                                    32329\n",
      " 135 │ Visa_mfinanciacion_limite                      32329\n",
      " 136 │ Visa_Fvencimiento                              32329\n",
      " 137 │ Visa_Finiciomora                              644146\n",
      " 138 │ Visa_msaldototal                               32329\n",
      " 139 │ Visa_msaldopesos                               32329\n",
      " 140 │ Visa_msaldodolares                             32329\n",
      " 141 │ Visa_mconsumospesos                            89872\n",
      " 142 │ Visa_mconsumosdolares                          89872\n",
      " 143 │ Visa_mlimitecompra                             32329\n",
      " 144 │ Visa_madelantopesos                            89872\n",
      " 145 │ Visa_madelantodolares                          89872\n",
      " 146 │ Visa_fultimo_cierre                            32487\n",
      " 147 │ Visa_mpagado                                   32329\n",
      " 148 │ Visa_mpagospesos                               89872\n",
      " 149 │ Visa_mpagosdolares                             89872\n",
      " 150 │ Visa_fechaalta                                 32329\n",
      " 151 │ Visa_mconsumototal                             89872\n",
      " 152 │ Visa_cconsumos                                 89872\n",
      " 153 │ Visa_cadelantosefectivo                        89872\n",
      " 154 │ Visa_mpagominimo                               32329\n",
      "Valores faltantes en y_train: 0\n"
     ]
    }
   ],
   "source": [
    "# Dividir el DataFrame en entrenamiento y prueba\n",
    "df_train = filter(row -> row.foto_mes <= 202104, df)\n",
    "df_test = filter(row -> row.foto_mes == 202106, df)\n",
    "\n",
    "print(\"cantidad de registros de Train: \")\n",
    "println(size(df_train))\n",
    "# Eliminar los registros de estos clientes del df_train\n",
    "df_train = df_train[.!in.(df_train.numero_de_cliente, Ref(registros_faltantes)), :]\n",
    "print(\"cantidad de registros de Train: \")\n",
    "println(size(df_train))\n",
    "\n",
    "#entrenameitno y target\n",
    "X_train = select(df_train, Not(:clase_ternaria))\n",
    "y_train = df_train.clase_ternaria\n",
    "\n",
    "\n",
    "####----------------Control Missing\n",
    "# Crear un DataFrame para mostrar los resultados\n",
    "resultadoX_train = DataFrame(columna = String[], valores_faltantes = Int[])\n",
    "\n",
    "\n",
    "# Iterar sobre cada columna del DataFrame original\n",
    "for col in names(X_train)\n",
    "    # Contar los valores faltantes en la columna actual\n",
    "    missing_count = sum(ismissing.(X_train[!, col]))\n",
    "    \n",
    "    # Añadir el resultado al DataFrame de resultados\n",
    "    push!(resultadoX_train, (col, missing_count))\n",
    "end\n",
    "\n",
    "# Contar los valores faltantes en la columna actual\n",
    "resultadoy_train = sum(ismissing.(y_train))\n",
    "\n",
    "# Mostrar el resultado\n",
    "println(resultadoX_train)\n",
    "print(\"Valores faltantes en y_train: \")\n",
    "println(resultadoy_train)"
   ]
  },
  {
   "cell_type": "markdown",
   "metadata": {},
   "source": [
    "## Tratameitno de Misiing en X_train\n",
    "\n",
    "Muy burdo todo por 0 habra que evaluar mucho de esto como DM."
   ]
  },
  {
   "cell_type": "code",
   "execution_count": 193,
   "metadata": {},
   "outputs": [
    {
     "name": "stdout",
     "output_type": "stream",
     "text": [
      "String15[\"BAJA+1\", \"BAJA+2\", \"CONTINUA\"]\n"
     ]
    },
    {
     "data": {
      "text/plain": [
       "652383-element CategoricalArray{String15,1,UInt32}:\n",
       " String15(\"CONTINUA\")\n",
       " String15(\"CONTINUA\")\n",
       " String15(\"CONTINUA\")\n",
       " String15(\"CONTINUA\")\n",
       " String15(\"CONTINUA\")\n",
       " String15(\"CONTINUA\")\n",
       " String15(\"CONTINUA\")\n",
       " String15(\"CONTINUA\")\n",
       " String15(\"CONTINUA\")\n",
       " String15(\"CONTINUA\")\n",
       " ⋮\n",
       " String15(\"CONTINUA\")\n",
       " String15(\"CONTINUA\")\n",
       " String15(\"CONTINUA\")\n",
       " String15(\"CONTINUA\")\n",
       " String15(\"CONTINUA\")\n",
       " String15(\"CONTINUA\")\n",
       " String15(\"CONTINUA\")\n",
       " String15(\"CONTINUA\")\n",
       " String15(\"CONTINUA\")"
      ]
     },
     "metadata": {},
     "output_type": "display_data"
    }
   ],
   "source": [
    "#Remplazo los valores faltantes por 0, burdo pero me deja entrenar el modelo.\n",
    "X_train = coalesce.(X_train, 0)\n",
    "y_train = coalesce.(y_train, \"Missing\")\n",
    "#se quita la columna numero_de_cliente\n",
    "X_train = select(X_train, Not(:numero_de_cliente))\n",
    "#y_train = select(y_train, Not(:numero_de_cliente))\n",
    "\n",
    "#Pasamos a Matriz para entrenamiento\n",
    "#X_train = Matrix(X_train)\n",
    "#y_train = coalesce.(y_train, \"CONTINUA\")\n",
    "#y_train = categorical(y_train)\n",
    "\n",
    "#Preparamos los datos para entrenar como solicita MJL\n",
    "#X_train_tab = Table(X_train)\n",
    "X_train_tab = DataFrame(X_train)\n",
    "\n",
    "\n",
    "# Obtener los niveles de la variable objetivo\n",
    "levels_y = levels(y_train)\n",
    "println(levels_y)\n",
    "# Convertir la variable objetivo en un vector de categorías finitas\n",
    "y_train_cat_finite = CategoricalArray(y_train, levels=levels_y)\n"
   ]
  },
  {
   "cell_type": "code",
   "execution_count": 194,
   "metadata": {},
   "outputs": [
    {
     "name": "stderr",
     "output_type": "stream",
     "text": [
      "┌ Info: Training machine(DecisionTreeClassifier(max_depth = 7, …), …).\n",
      "└ @ MLJBase C:\\Users\\tschoppj\\.julia\\packages\\MLJBase\\7nGJF\\src\\machines.jl:499\n"
     ]
    },
    {
     "data": {
      "text/plain": [
       "trained Machine; caches model-specific representations of data\n",
       "  model: DecisionTreeClassifier(max_depth = 7, …)\n",
       "  args: \n",
       "    1:\tSource @053 ⏎ Table{Union{AbstractVector{Continuous}, AbstractVector{Count}}}\n",
       "    2:\tSource @951 ⏎ AbstractVector{Multiclass{3}}\n"
      ]
     },
     "metadata": {},
     "output_type": "display_data"
    }
   ],
   "source": [
    "# Ajustar parámetros\n",
    "max_depth = 7\n",
    "min_samples_split = 250\n",
    "min_samples_leaf = 100\n",
    "\n",
    "tree = Tree(max_depth=max_depth, min_samples_split=min_samples_split, min_samples_leaf=min_samples_leaf)\n",
    "\n",
    "# Crear una máquina con el modelo y los datos de entrenamiento\n",
    "mach = machine(tree, X_train, y_train_cat_finite)\n",
    "\n",
    "# Entrenar el modelo\n",
    "MLJ.fit!(mach)"
   ]
  },
  {
   "cell_type": "markdown",
   "metadata": {},
   "source": [
    "## Preparar df_test para aplicar el modelo"
   ]
  },
  {
   "cell_type": "code",
   "execution_count": 195,
   "metadata": {},
   "outputs": [
    {
     "data": {
      "text/plain": [
       "164876-element CategoricalDistributions.UnivariateFiniteVector{Multiclass{3}, String15, UInt32, Float64}:\n",
       " UnivariateFinite{Multiclass{3}}(BAJA+1=>0.000526, BAJA+2=>0.00123, CONTINUA=>0.998)\n",
       " UnivariateFinite{Multiclass{3}}(BAJA+1=>0.000534, BAJA+2=>0.000672, CONTINUA=>0.999)\n",
       " UnivariateFinite{Multiclass{3}}(BAJA+1=>0.0, BAJA+2=>0.0, CONTINUA=>1.0)\n",
       " UnivariateFinite{Multiclass{3}}(BAJA+1=>0.00969, BAJA+2=>0.0196, CONTINUA=>0.971)\n",
       " UnivariateFinite{Multiclass{3}}(BAJA+1=>0.0, BAJA+2=>0.014, CONTINUA=>0.986)\n",
       " UnivariateFinite{Multiclass{3}}(BAJA+1=>0.000275, BAJA+2=>0.000153, CONTINUA=>1.0)\n",
       " UnivariateFinite{Multiclass{3}}(BAJA+1=>0.0, BAJA+2=>0.00119, CONTINUA=>0.999)\n",
       " UnivariateFinite{Multiclass{3}}(BAJA+1=>0.0, BAJA+2=>0.000312, CONTINUA=>1.0)\n",
       " UnivariateFinite{Multiclass{3}}(BAJA+1=>0.000171, BAJA+2=>9.53e-5, CONTINUA=>1.0)\n",
       " UnivariateFinite{Multiclass{3}}(BAJA+1=>0.0, BAJA+2=>0.000119, CONTINUA=>1.0)\n",
       " ⋮\n",
       " UnivariateFinite{Multiclass{3}}(BAJA+1=>0.00153, BAJA+2=>0.0046, CONTINUA=>0.994)\n",
       " UnivariateFinite{Multiclass{3}}(BAJA+1=>0.00153, BAJA+2=>0.0046, CONTINUA=>0.994)\n",
       " UnivariateFinite{Multiclass{3}}(BAJA+1=>0.00224, BAJA+2=>0.00261, CONTINUA=>0.995)\n",
       " UnivariateFinite{Multiclass{3}}(BAJA+1=>0.00224, BAJA+2=>0.00261, CONTINUA=>0.995)\n",
       " UnivariateFinite{Multiclass{3}}(BAJA+1=>0.00153, BAJA+2=>0.0046, CONTINUA=>0.994)\n",
       " UnivariateFinite{Multiclass{3}}(BAJA+1=>0.00224, BAJA+2=>0.00261, CONTINUA=>0.995)\n",
       " UnivariateFinite{Multiclass{3}}(BAJA+1=>0.00224, BAJA+2=>0.00261, CONTINUA=>0.995)\n",
       " UnivariateFinite{Multiclass{3}}(BAJA+1=>0.00153, BAJA+2=>0.0046, CONTINUA=>0.994)\n",
       " UnivariateFinite{Multiclass{3}}(BAJA+1=>0.0351, BAJA+2=>0.0416, CONTINUA=>0.923)"
      ]
     },
     "metadata": {},
     "output_type": "display_data"
    }
   ],
   "source": [
    "# Suponiendo que las columnas de características son las mismas que X_train\n",
    "# y que ya has tratado los valores faltantes en df_test\n",
    "X_test = select(df_test, Not(:numero_de_cliente, :clase_ternaria))\n",
    "\n",
    "#Se eliminan missing y se remplazan por 0\n",
    "X_test = coalesce.(X_test, 0)\n",
    "\n",
    "# Realizar predicciones en el conjunto de datos de prueba\n",
    "probabilidades = MLJ.predict(mach, X_test)\n",
    "\n"
   ]
  },
  {
   "cell_type": "code",
   "execution_count": 196,
   "metadata": {},
   "outputs": [
    {
     "name": "stdout",
     "output_type": "stream",
     "text": [
      "Predicciones de personas que dejan el Banco: 8514\n"
     ]
    }
   ],
   "source": [
    "# Extraer las probabilidades de la clase positiva (BAJA+2)\n",
    "probabilidades_positivas = [pdf(prob, \"BAJA+2\") for prob in probabilidades]\n",
    "\n",
    "# Establecer el umbral\n",
    "umbral = 1/40\n",
    "\n",
    "# Realizar predicciones con el umbral\n",
    "predicciones_umbral = [prob > umbral ? 1 : 0 for prob in probabilidades_positivas]\n",
    "\n",
    "print(\"Predicciones de personas que dejan el Banco: \")\n",
    "n_unos = sum(predicciones_umbral)\n",
    "println(n_unos)"
   ]
  },
  {
   "cell_type": "code",
   "execution_count": 197,
   "metadata": {},
   "outputs": [
    {
     "data": {
      "text/plain": [
       "\"G:/Mi unidad/01-Maestria Ciencia de Datos/DMEyF/exp/KA2001/KJulia_002.csv\""
      ]
     },
     "metadata": {},
     "output_type": "display_data"
    }
   ],
   "source": [
    "# Agregar las predicciones como una nueva columna en df_test\n",
    "df_test[!, :Predicted] = predicciones_umbral\n",
    "\n",
    "# Seleccionar las columnas 'numero_de_cliente' y 'Predicted' para la exportación\n",
    "resultado_exportar = select(df_test, :numero_de_cliente, :Predicted)\n",
    "\n",
    "# Exportar a CSV\n",
    "archivo_numero = \"002\"\n",
    "CSV.write(\"G:/Mi unidad/01-Maestria Ciencia de Datos/DMEyF/exp/KA2001/KJulia_\" * archivo_numero * \".csv\", resultado_exportar)"
   ]
  }
 ],
 "metadata": {
  "kernelspec": {
   "display_name": "Julia 1.10.4",
   "language": "julia",
   "name": "julia-1.10"
  },
  "language_info": {
   "file_extension": ".jl",
   "mimetype": "application/julia",
   "name": "julia",
   "version": "1.10.4"
  }
 },
 "nbformat": 4,
 "nbformat_minor": 2
}
