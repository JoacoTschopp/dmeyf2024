{
 "cells": [
  {
   "cell_type": "code",
   "execution_count": 1,
   "metadata": {},
   "outputs": [],
   "source": [
    "using CSV,  DataFrames\n",
    "using BenchmarkTools"
   ]
  },
  {
   "cell_type": "markdown",
   "metadata": {},
   "source": [
    "# Imputacion de Case_Ternaria"
   ]
  },
  {
   "cell_type": "code",
   "execution_count": 176,
   "metadata": {},
   "outputs": [
    {
     "data": {
      "text/plain": [
       "(981946, 154)"
      ]
     },
     "metadata": {},
     "output_type": "display_data"
    }
   ],
   "source": [
    "periodo_anterior(x::Integer) =  x % 100 > 1  ?  x-1  : 12 + (div(x,100) -1) * 100\n",
    "\n",
    "df = CSV.read(\"G:/Mi unidad/01-Maestria Ciencia de Datos/DMEyF/competencia_01_crudo.csv\", DataFrame)\n",
    "size(df)"
   ]
  },
  {
   "cell_type": "code",
   "execution_count": 178,
   "metadata": {},
   "outputs": [
    {
     "data": {
      "text/plain": [
       "BenchmarkTools.Trial: 7 samples with 1 evaluation.\n",
       " Range \u001b[90m(\u001b[39m\u001b[36m\u001b[1mmin\u001b[22m\u001b[39m … \u001b[35mmax\u001b[39m\u001b[90m):  \u001b[39m\u001b[36m\u001b[1m750.308 ms\u001b[22m\u001b[39m … \u001b[35m908.056 ms\u001b[39m  \u001b[90m┊\u001b[39m GC \u001b[90m(\u001b[39mmin … max\u001b[90m): \u001b[39m1.65% … 17.86%\n",
       " Time  \u001b[90m(\u001b[39m\u001b[34m\u001b[1mmedian\u001b[22m\u001b[39m\u001b[90m):     \u001b[39m\u001b[34m\u001b[1m765.542 ms               \u001b[22m\u001b[39m\u001b[90m┊\u001b[39m GC \u001b[90m(\u001b[39mmedian\u001b[90m):    \u001b[39m1.81%\n",
       " Time  \u001b[90m(\u001b[39m\u001b[32m\u001b[1mmean\u001b[22m\u001b[39m ± \u001b[32mσ\u001b[39m\u001b[90m):   \u001b[39m\u001b[32m\u001b[1m801.069 ms\u001b[22m\u001b[39m ± \u001b[32m 73.102 ms\u001b[39m  \u001b[90m┊\u001b[39m GC \u001b[90m(\u001b[39mmean ± σ\u001b[90m):  \u001b[39m7.01% ±  7.87%\n",
       "\n",
       "  \u001b[34m█\u001b[39m\u001b[39m \u001b[39m \u001b[39m \u001b[39m \u001b[39m \u001b[39m \u001b[39m \u001b[39m \u001b[39m \u001b[39m \u001b[39m \u001b[39m \u001b[39m \u001b[39m \u001b[39m \u001b[39m \u001b[39m \u001b[39m \u001b[39m \u001b[32m \u001b[39m\u001b[39m \u001b[39m \u001b[39m \u001b[39m \u001b[39m \u001b[39m \u001b[39m \u001b[39m \u001b[39m \u001b[39m \u001b[39m \u001b[39m \u001b[39m \u001b[39m \u001b[39m \u001b[39m \u001b[39m \u001b[39m \u001b[39m \u001b[39m \u001b[39m \u001b[39m \u001b[39m \u001b[39m \u001b[39m \u001b[39m \u001b[39m \u001b[39m \u001b[39m \u001b[39m \u001b[39m \u001b[39m \u001b[39m \u001b[39m \u001b[39m \u001b[39m \u001b[39m \u001b[39m \u001b[39m \u001b[39m▃\u001b[39m \u001b[39m \n",
       "  \u001b[34m█\u001b[39m\u001b[39m▁\u001b[39m▁\u001b[39m▁\u001b[39m▁\u001b[39m▇\u001b[39m▁\u001b[39m▁\u001b[39m▁\u001b[39m▇\u001b[39m▁\u001b[39m▁\u001b[39m▁\u001b[39m▁\u001b[39m▁\u001b[39m▁\u001b[39m▁\u001b[39m▁\u001b[39m▁\u001b[39m▁\u001b[32m▁\u001b[39m\u001b[39m▁\u001b[39m▁\u001b[39m▁\u001b[39m▁\u001b[39m▁\u001b[39m▁\u001b[39m▁\u001b[39m▁\u001b[39m▁\u001b[39m▁\u001b[39m▁\u001b[39m▁\u001b[39m▁\u001b[39m▁\u001b[39m▁\u001b[39m▁\u001b[39m▁\u001b[39m▁\u001b[39m▁\u001b[39m▁\u001b[39m▁\u001b[39m▁\u001b[39m▁\u001b[39m▁\u001b[39m▁\u001b[39m▁\u001b[39m▁\u001b[39m▁\u001b[39m▁\u001b[39m▁\u001b[39m▁\u001b[39m▁\u001b[39m▁\u001b[39m▁\u001b[39m▁\u001b[39m▁\u001b[39m▁\u001b[39m▁\u001b[39m▁\u001b[39m█\u001b[39m \u001b[39m▁\n",
       "  750 ms\u001b[90m           Histogram: frequency by time\u001b[39m          908 ms \u001b[0m\u001b[1m<\u001b[22m\n",
       "\n",
       " Memory estimate\u001b[90m: \u001b[39m\u001b[33m470.33 MiB\u001b[39m, allocs estimate\u001b[90m: \u001b[39m\u001b[33m26650399\u001b[39m."
      ]
     },
     "metadata": {},
     "output_type": "display_data"
    }
   ],
   "source": [
    "sort!(df, [:numero_de_cliente, :foto_mes])\n",
    "\n",
    "global periodo_ultimo = maximum( df.foto_mes )\n",
    "global periodo_anteultimo = periodo_anterior( periodo_ultimo)\n",
    "\n",
    "# assign most common class values\n",
    "df.clase_ternaria = @. ifelse( df.foto_mes < periodo_anteultimo, \"CONTINUA\", missing )\n",
    "\n",
    "# pre compute sequential time\n",
    "periodo = @. div(df.foto_mes,100)*12 + df.foto_mes%100\n",
    "\n",
    "global last = nrow(df)\n",
    "\n",
    "for i in 1:last\n",
    "  if df.foto_mes[i] <= periodo_anteultimo &&  i < last &&\n",
    "        ( df.numero_de_cliente[i] != df.numero_de_cliente[i+1]  ||  df.numero_de_cliente[i] == df.numero_de_cliente[i+1] && periodo[i+1]  > periodo[i] +1)\n",
    "          df.clase_ternaria[i] = \"BAJA+1\"\n",
    "  end\n",
    "\n",
    "  if df.foto_mes[i] < periodo_anteultimo &&  i+1 < last && df.numero_de_cliente[i] == df.numero_de_cliente[i+1] &&  periodo[i+1] == periodo[i] +1 &&\n",
    "        ( df.numero_de_cliente[i+1] != df.numero_de_cliente[i+2]  || df.numero_de_cliente[i+1] == df.numero_de_cliente[i+2] && periodo[i+2]  > periodo[i+1] +2)\n",
    "          df.clase_ternaria[i] = \"BAJA+2\"\n",
    "  end\n",
    "end\n",
    "\n"
   ]
  },
  {
   "cell_type": "code",
   "execution_count": 2,
   "metadata": {},
   "outputs": [
    {
     "ename": "UndefVarError",
     "evalue": "UndefVarError: `df` not defined",
     "output_type": "error",
     "traceback": [
      "UndefVarError: `df` not defined\n",
      "\n",
      "Stacktrace:\n",
      " [1] top-level scope\n",
      "   @ g:\\Mi unidad\\01-Maestria Ciencia de Datos\\DMEyF\\TPs\\dmeyf2024\\dmeyf2024\\jl_notebook_cell_df34fa98e69747e1a8f8a730347b8e2f_W3sZmlsZQ==.jl:1"
     ]
    }
   ],
   "source": [
    "CSV.write( \"G:/Mi unidad/01-Maestria Ciencia de Datos/DMEyF/competencia_01_julia01.csv\", df )"
   ]
  },
  {
   "cell_type": "markdown",
   "metadata": {},
   "source": [
    "# 1. Entrenameinto"
   ]
  },
  {
   "cell_type": "code",
   "execution_count": 2,
   "metadata": {},
   "outputs": [],
   "source": [
    "using CategoricalArrays\n",
    "\n",
    "\n",
    "using CSV, DataFrames, Random, Statistics\n",
    "using Primes\n",
    "using DecisionTree, Impute\n",
    "using Base.Threads\n",
    "\n",
    "using Distributed"
   ]
  },
  {
   "cell_type": "code",
   "execution_count": 3,
   "metadata": {},
   "outputs": [
    {
     "data": {
      "text/plain": [
       "155-element Vector{String}:\n",
       " \"numero_de_cliente\"\n",
       " \"foto_mes\"\n",
       " \"active_quarter\"\n",
       " \"cliente_vip\"\n",
       " \"internet\"\n",
       " \"cliente_edad\"\n",
       " \"cliente_antiguedad\"\n",
       " \"mrentabilidad\"\n",
       " \"mrentabilidad_annual\"\n",
       " \"mcomisiones\"\n",
       " ⋮\n",
       " \"Visa_mpagado\"\n",
       " \"Visa_mpagospesos\"\n",
       " \"Visa_mpagosdolares\"\n",
       " \"Visa_fechaalta\"\n",
       " \"Visa_mconsumototal\"\n",
       " \"Visa_cconsumos\"\n",
       " \"Visa_cadelantosefectivo\"\n",
       " \"Visa_mpagominimo\"\n",
       " \"clase_ternaria\""
      ]
     },
     "metadata": {},
     "output_type": "display_data"
    }
   ],
   "source": [
    "df = CSV.read(\"G:/Mi unidad/01-Maestria Ciencia de Datos/DMEyF/TPs/dmeyf-2024/datasets/competencia_01_julia.csv\", DataFrame)\n",
    "\n",
    "names(df)"
   ]
  },
  {
   "cell_type": "code",
   "execution_count": 4,
   "metadata": {},
   "outputs": [
    {
     "data": {
      "text/plain": [
       "169481"
      ]
     },
     "metadata": {},
     "output_type": "display_data"
    }
   ],
   "source": [
    "count_cliente = length(unique(df.numero_de_cliente))"
   ]
  },
  {
   "cell_type": "markdown",
   "metadata": {},
   "source": [
    "## Registros faltante y su posible tratamiento"
   ]
  },
  {
   "cell_type": "code",
   "execution_count": 5,
   "metadata": {},
   "outputs": [
    {
     "name": "stdout",
     "output_type": "stream",
     "text": [
      "Any[263751894, 304051318, 351895410, 445822700, 493399293, 555298549, 559063769, 583196648, 644687585, 675442310, 832767503, 855499233, 885810926, 893574159, 933210746, 1179226843, 1302790375, 1389447490, 1435040696, 1460648156, 1471746344, 1524390423, 1549075943]\n"
     ]
    },
    {
     "data": {
      "text/plain": [
       "BenchmarkTools.Trial: 38 samples with 1 evaluation.\n",
       " Range \u001b[90m(\u001b[39m\u001b[36m\u001b[1mmin\u001b[22m\u001b[39m … \u001b[35mmax\u001b[39m\u001b[90m):  \u001b[39m\u001b[36m\u001b[1m103.206 ms\u001b[22m\u001b[39m … \u001b[35m248.126 ms\u001b[39m  \u001b[90m┊\u001b[39m GC \u001b[90m(\u001b[39mmin … max\u001b[90m): \u001b[39m0.00% … 56.06%\n",
       " Time  \u001b[90m(\u001b[39m\u001b[34m\u001b[1mmedian\u001b[22m\u001b[39m\u001b[90m):     \u001b[39m\u001b[34m\u001b[1m125.482 ms               \u001b[22m\u001b[39m\u001b[90m┊\u001b[39m GC \u001b[90m(\u001b[39mmedian\u001b[90m):    \u001b[39m0.00%\n",
       " Time  \u001b[90m(\u001b[39m\u001b[32m\u001b[1mmean\u001b[22m\u001b[39m ± \u001b[32mσ\u001b[39m\u001b[90m):   \u001b[39m\u001b[32m\u001b[1m131.633 ms\u001b[22m\u001b[39m ± \u001b[32m 24.074 ms\u001b[39m  \u001b[90m┊\u001b[39m GC \u001b[90m(\u001b[39mmean ± σ\u001b[90m):  \u001b[39m7.68% ± 14.27%\n",
       "\n",
       "  \u001b[39m \u001b[39m \u001b[39m \u001b[39m \u001b[39m \u001b[39m \u001b[39m \u001b[39m \u001b[39m \u001b[34m█\u001b[39m\u001b[39m \u001b[39m \u001b[32m \u001b[39m\u001b[39m \u001b[39m \u001b[39m \u001b[39m \u001b[39m \u001b[39m \u001b[39m \u001b[39m \u001b[39m \u001b[39m \u001b[39m \u001b[39m \u001b[39m \u001b[39m \u001b[39m \u001b[39m \u001b[39m \u001b[39m \u001b[39m \u001b[39m \u001b[39m \u001b[39m \u001b[39m \u001b[39m \u001b[39m \u001b[39m \u001b[39m \u001b[39m \u001b[39m \u001b[39m \u001b[39m \u001b[39m \u001b[39m \u001b[39m \u001b[39m \u001b[39m \u001b[39m \u001b[39m \u001b[39m \u001b[39m \u001b[39m \u001b[39m \u001b[39m \u001b[39m \u001b[39m \u001b[39m \u001b[39m \u001b[39m \u001b[39m \u001b[39m \n",
       "  \u001b[39m▃\u001b[39m▁\u001b[39m▁\u001b[39m▃\u001b[39m▃\u001b[39m▁\u001b[39m▃\u001b[39m▄\u001b[39m▆\u001b[34m█\u001b[39m\u001b[39m▆\u001b[39m▄\u001b[32m▁\u001b[39m\u001b[39m▁\u001b[39m▁\u001b[39m▁\u001b[39m▁\u001b[39m▁\u001b[39m▁\u001b[39m▁\u001b[39m▁\u001b[39m▁\u001b[39m▁\u001b[39m▃\u001b[39m▃\u001b[39m▃\u001b[39m▁\u001b[39m▁\u001b[39m▁\u001b[39m▁\u001b[39m▁\u001b[39m▁\u001b[39m▃\u001b[39m▁\u001b[39m▁\u001b[39m▁\u001b[39m▁\u001b[39m▁\u001b[39m▁\u001b[39m▁\u001b[39m▁\u001b[39m▁\u001b[39m▁\u001b[39m▁\u001b[39m▁\u001b[39m▁\u001b[39m▁\u001b[39m▁\u001b[39m▁\u001b[39m▁\u001b[39m▁\u001b[39m▁\u001b[39m▁\u001b[39m▁\u001b[39m▁\u001b[39m▁\u001b[39m▁\u001b[39m▁\u001b[39m▁\u001b[39m▁\u001b[39m▃\u001b[39m \u001b[39m▁\n",
       "  103 ms\u001b[90m           Histogram: frequency by time\u001b[39m          248 ms \u001b[0m\u001b[1m<\u001b[22m\n",
       "\n",
       " Memory estimate\u001b[90m: \u001b[39m\u001b[33m145.84 MiB\u001b[39m, allocs estimate\u001b[90m: \u001b[39m\u001b[33m2540128\u001b[39m."
      ]
     },
     "metadata": {},
     "output_type": "display_data"
    }
   ],
   "source": [
    "function encontrar_registros_faltantes(df)\n",
    "    registros_faltantes = []\n",
    "    grupos = groupby(df, :numero_de_cliente)\n",
    "\n",
    "    for grupo in grupos\n",
    "        registros_cliente = grupo.foto_mes\n",
    "        registros_cliente = sort(registros_cliente)\n",
    "\n",
    "        if length(registros_cliente) == 6 && all(diff(registros_cliente) .== 1)\n",
    "            continue\n",
    "        end\n",
    "        if length(registros_cliente) == 5 && (registros_cliente[1] == registros_cliente[end] - 4 || registros_cliente[end] == registros_cliente[1] + 4)\n",
    "            continue\n",
    "        end\n",
    "        if any(diff(registros_cliente) .> 1) \n",
    "            push!(registros_faltantes, (grupo.numero_de_cliente[1]))\n",
    "        end\n",
    "    end\n",
    "\n",
    "    return registros_faltantes\n",
    "end\n",
    "\n",
    "registros_faltantes = encontrar_registros_faltantes(df)\n",
    "println(registros_faltantes)\n",
    "\n",
    "@benchmark encontrar_registros_faltantes(df)"
   ]
  },
  {
   "cell_type": "code",
   "execution_count": 6,
   "metadata": {},
   "outputs": [
    {
     "name": "stdout",
     "output_type": "stream",
     "text": [
      "23\n"
     ]
    },
    {
     "data": {
      "text/plain": [
       "23-element Vector{Int64}:\n",
       "  263751894\n",
       "  304051318\n",
       "  351895410\n",
       "  445822700\n",
       "  493399293\n",
       "  555298549\n",
       "  559063769\n",
       "  583196648\n",
       "  644687585\n",
       "  675442310\n",
       "          ⋮\n",
       "  933210746\n",
       " 1179226843\n",
       " 1302790375\n",
       " 1389447490\n",
       " 1435040696\n",
       " 1460648156\n",
       " 1471746344\n",
       " 1524390423\n",
       " 1549075943"
      ]
     },
     "metadata": {},
     "output_type": "display_data"
    }
   ],
   "source": [
    "println(length(registros_faltantes))\n",
    "registros_faltantes = [Int64(x) for x in registros_faltantes]"
   ]
  },
  {
   "cell_type": "code",
   "execution_count": 2,
   "metadata": {},
   "outputs": [
    {
     "ename": "UndefVarError",
     "evalue": "UndefVarError: `df` not defined",
     "output_type": "error",
     "traceback": [
      "UndefVarError: `df` not defined\n",
      "\n",
      "Stacktrace:\n",
      " [1] top-level scope\n",
      "   @ g:\\Mi unidad\\01-Maestria Ciencia de Datos\\DMEyF\\TPs\\dmeyf-2024\\dmeyf2024\\jl_notebook_cell_df34fa98e69747e1a8f8a730347b8e2f_X13sZmlsZQ==.jl:41"
     ]
    }
   ],
   "source": [
    "function EliminarVacios(df, registros_faltantes)\n",
    "    print(\"cantidad de registros de Train: \")\n",
    "    println(size(df))\n",
    "    # Eliminar los registros de estos clientes del df_train\n",
    "    df = df[.!in.(df.numero_de_cliente, Ref(registros_faltantes)), :]\n",
    "    print(\"cantidad de registros de Train: \")\n",
    "    println(size(df))\n",
    "\n",
    "    return df\n",
    "end\n",
    "\n",
    "function AgregarPerdidos(df, registros_faltantes)\n",
    "    print(\"cantidad de registros de Train: \")\n",
    "    println(size(df))\n",
    "\n",
    "    # Crear un DataFrame vacío para almacenar los registros faltantes\n",
    "    df_faltantes = DataFrame()\n",
    "\n",
    "    # Iterar sobre los registros faltantes\n",
    "    for registro in registros_faltantes\n",
    "        # Buscar el registro correspondiente en el DataFrame original\n",
    "        registro_original = df[df.numero_de_cliente .== registro, :]\n",
    "\n",
    "        # Agregar una copia del registro original con 'foto_mes' faltante\n",
    "        registro_faltante = deepcopy(registro_original)\n",
    "        registro_faltante.foto_mes .= missing\n",
    "\n",
    "        # Agregar el registro faltante al DataFrame de registros faltantes\n",
    "        df_faltantes = vcat(df_faltantes, registro_faltante)\n",
    "    end\n",
    "\n",
    "    # Agregar los registros faltantes al DataFrame original\n",
    "    df = vcat(df, df_faltantes)\n",
    "\n",
    "    print(\"cantidad de registros de Train: \")\n",
    "    println(size(df))\n",
    "    return df\n",
    "end\n",
    "\n",
    "# Dividir el DataFrame en entrenamiento y prueba\n",
    "df_train = filter(row -> row.foto_mes <= 202104, df)\n",
    "df_test = filter(row -> row.foto_mes == 202106, df)\n",
    "\n",
    "#si eliminamos\n",
    "df_train = EliminarVacios(df_train, registros_faltantes)\n",
    "\n",
    "#si agregamos los registros faltnates de esos 23...\n",
    "#df_train = AgregarPerdidos(df_train)\n",
    "\n",
    "\n",
    "#entrenameitno y target\n",
    "X_train = select(df_train, Not(:clase_ternaria))\n",
    "y_train = df_train.clase_ternaria\n",
    "\n",
    "\n",
    "####----------------Control Missing\n",
    "# Crear un DataFrame para mostrar los resultados\n",
    "resultadoX_train = DataFrame(columna = String[], valores_faltantes = Int[])\n",
    "\n",
    "\n",
    "# Iterar sobre cada columna del DataFrame original\n",
    "for col in names(X_train)\n",
    "    # Contar los valores faltantes en la columna actual\n",
    "    missing_count = sum(ismissing.(X_train[!, col]))\n",
    "    \n",
    "    # Añadir el resultado al DataFrame de resultados\n",
    "    push!(resultadoX_train, (col, missing_count))\n",
    "end\n",
    "\n",
    "# Contar los valores faltantes en la columna actual\n",
    "resultadoy_train = sum(ismissing.(y_train))\n",
    "\n",
    "# Mostrar el resultado\n",
    "println(resultadoX_train)\n",
    "print(\"Valores faltantes en y_train: \")\n",
    "println(resultadoy_train)"
   ]
  },
  {
   "cell_type": "markdown",
   "metadata": {},
   "source": [
    "# Calculo de ganancias medias."
   ]
  },
  {
   "cell_type": "code",
   "execution_count": 5,
   "metadata": {},
   "outputs": [
    {
     "data": {
      "text/plain": [
       "10"
      ]
     },
     "metadata": {},
     "output_type": "display_data"
    }
   ],
   "source": [
    "### ARMADO DE ARBOL E HYPERPARAMETROS\n",
    "\n",
    "struct ttree\n",
    "    n_subfeatures::UInt\n",
    "    maxdepth::UInt\n",
    "    min_samples_split::UInt\n",
    "    min_samples_leaf::UInt\n",
    "    min_purity_increase::Float64\n",
    " end\n",
    " \n",
    " ptree = ttree(0, 7, 800, 20, 0)\n",
    " training = 0.7\n",
    " semilla = 17\n",
    " qsemillas = 10 #0"
   ]
  },
  {
   "cell_type": "code",
   "execution_count": 6,
   "metadata": {},
   "outputs": [],
   "source": [
    "### CALCULO GANANCIA\n",
    "\n",
    "@everywhere function  EstimarGanancia( psemilla, training, ptree )\n",
    "    println(\"Proceso $(myid()) ejecutando EstimarGanancia con semilla $psemilla\")\n",
    "    ganancia_test_normalizada = -1,0\n",
    "\n",
    "    # particion\n",
    "    Random.seed!(psemilla)\n",
    "    vfold = 2 .-  Int.( rand(Float64, length(dataset_clase)) .< training )\n",
    "\n",
    "    # train_campos =  replace!( Matrix( dataset[ vfold .== 1 ,  Not(:clase_ternaria)] ), missing => 0  )\n",
    "\n",
    "    # clase = string.(dataset[ vfold .== 1 , :clase_ternaria ])\n",
    "    # datos = Matrix( dataset[ vfold .== 1 ,  Not(:clase_ternaria)] )\n",
    "    # genero el modelo en training\n",
    "    modelo = DecisionTree.build_tree(\n",
    "        dataset_clase[ vfold .== 1 ],\n",
    "        dataset_matriz[ vfold .== 1 ,:],\n",
    "        ptree.n_subfeatures,\n",
    "        ptree.maxdepth,\n",
    "        ptree.min_samples_leaf,\n",
    "        ptree.min_samples_split,\n",
    "        ptree.min_purity_increase\n",
    "    )\n",
    "\n",
    "    # aplico el modelo a testing vfold = 2\n",
    "    pred = apply_tree_proba(modelo, \n",
    "        dataset_matriz[ vfold .== 2 ,:],\n",
    "        [\"BAJA+1\",\"BAJA+2\",\"CONTINUA\"]\n",
    "    )\n",
    "\n",
    "\n",
    "   ganancia_test_normalizada = sum(\n",
    "        ( dataset_clase[ vfold .== 2][ (pred[:, 2 ] .> 0.025) ] .== \"BAJA+2\"   )\n",
    "        .* 280000\n",
    "        .- 7000\n",
    "       ) / ( 1.0 - training )\n",
    "\n",
    "   return  ganancia_test_normalizada\n",
    "end"
   ]
  },
  {
   "cell_type": "code",
   "execution_count": 7,
   "metadata": {},
   "outputs": [
    {
     "data": {
      "text/plain": [
       "10-element Vector{Float64}:\n",
       " 6.95193226747213e-310\n",
       " 8.19858838473e-312\n",
       " 8.198609126947e-312\n",
       " 8.199063825126e-312\n",
       " 8.199836726877e-312\n",
       " 8.199836727114e-312\n",
       " 8.19983672735e-312\n",
       " 8.19992537767e-312\n",
       " 8.199925377985e-312\n",
       " 8.19992537862e-312"
      ]
     },
     "metadata": {},
     "output_type": "display_data"
    }
   ],
   "source": [
    "####ENTRENAMIENTO Y CALCULO DE MEDIAS\n",
    "\n",
    "dataset = df\n",
    "\n",
    "# restrinjo al periodo 202104\n",
    "dataset = dataset[ dataset.foto_mes .== 202104, : ]\n",
    "\n",
    "# Lamentablemente debo imputar nulos, \n",
    "#  porque la libreria DecisionTree no los soporta\n",
    "dataset = Impute.substitute( dataset ) \n",
    "\n",
    "# formato para  DecisionTrees\n",
    "dataset_clase = string.(dataset[ :, :clase_ternaria ])\n",
    "dataset_matriz = Matrix( dataset[ :, Not(:clase_ternaria)] )\n",
    "\n",
    "# elimino  dataset\n",
    "dataset = Nothing\n",
    "\n",
    "# genero la cantidad de qsemillas  nuevas semillas\n",
    "Random.seed!(semilla)\n",
    "semillas = rand( Primes.primes( 100000, 999999 ), qsemillas )\n",
    "\n",
    "\n",
    "# vector donde almaceno los resultados\n",
    "ganancia = Array{Float64}( undef, length( semillas ))\n"
   ]
  },
  {
   "cell_type": "code",
   "execution_count": 35,
   "metadata": {},
   "outputs": [
    {
     "data": {
      "text/plain": [
       "436853"
      ]
     },
     "metadata": {},
     "output_type": "display_data"
    }
   ],
   "source": [
    "semillas[10]"
   ]
  },
  {
   "cell_type": "code",
   "execution_count": 9,
   "metadata": {},
   "outputs": [
    {
     "name": "stdout",
     "output_type": "stream",
     "text": [
      "Proceso 1 ejecutando EstimarGanancia con semilla 852751\n",
      "Proceso 1 ejecutando EstimarGanancia con semilla 688397\n",
      "Proceso 1 ejecutando EstimarGanancia con semilla 704281\n",
      "Proceso 1 ejecutando EstimarGanancia con semilla 409589\n",
      "Proceso 1 ejecutando EstimarGanancia con semilla 938827\n",
      "Proceso 1 ejecutando EstimarGanancia con semilla 562901\n",
      "Proceso 1 ejecutando EstimarGanancia con semilla 969559\n",
      "Proceso 1 ejecutando EstimarGanancia con semilla 395953\n",
      "Proceso 1 ejecutando EstimarGanancia con semilla 479189\n",
      "Proceso 1 ejecutando EstimarGanancia con semilla 436853\n",
      "[1.1339999999999999e8, 1.2212666666666664e8, 1.3817999999999997e8, 1.1806666666666664e8, 1.2387666666666664e8, 1.3355999999999999e8, 1.351233333333333e8, 1.4552999999999997e8, 1.382733333333333e8, 1.2198666666666664e8]1.2901233333333333e8"
     ]
    }
   ],
   "source": [
    "# calculo las  ganancias\n",
    "@threads for i=1:length(semillas) \n",
    "   ganancia[i] = EstimarGanancia( semillas[i], training, ptree )\n",
    "end\n",
    " \n",
    "print( ganancia )\n",
    "print( Statistics.mean( ganancia ) )"
   ]
  },
  {
   "cell_type": "markdown",
   "metadata": {},
   "source": [
    "## Tratameitno de Misiing en X_train\n",
    "\n",
    "Muy burdo todo por 0 habra que evaluar mucho de esto como DM."
   ]
  },
  {
   "cell_type": "code",
   "execution_count": 9,
   "metadata": {},
   "outputs": [
    {
     "name": "stdout",
     "output_type": "stream",
     "text": [
      "String15[\"BAJA+1\", \"BAJA+2\", \"CONTINUA\"]\n"
     ]
    },
    {
     "data": {
      "text/plain": [
       "652383-element CategoricalArray{String15,1,UInt32}:\n",
       " String15(\"CONTINUA\")\n",
       " String15(\"CONTINUA\")\n",
       " String15(\"CONTINUA\")\n",
       " String15(\"CONTINUA\")\n",
       " String15(\"CONTINUA\")\n",
       " String15(\"CONTINUA\")\n",
       " String15(\"CONTINUA\")\n",
       " String15(\"CONTINUA\")\n",
       " String15(\"CONTINUA\")\n",
       " String15(\"CONTINUA\")\n",
       " ⋮\n",
       " String15(\"CONTINUA\")\n",
       " String15(\"CONTINUA\")\n",
       " String15(\"CONTINUA\")\n",
       " String15(\"CONTINUA\")\n",
       " String15(\"CONTINUA\")\n",
       " String15(\"CONTINUA\")\n",
       " String15(\"CONTINUA\")\n",
       " String15(\"CONTINUA\")\n",
       " String15(\"CONTINUA\")"
      ]
     },
     "metadata": {},
     "output_type": "display_data"
    }
   ],
   "source": [
    "#Remplazo los valores faltantes por 0, burdo pero me deja entrenar el modelo.\n",
    "X_train = coalesce.(X_train, 0)\n",
    "y_train = coalesce.(y_train, \"Missing\")\n",
    "#se quita la columna numero_de_cliente\n",
    "X_train = select(X_train, Not(:numero_de_cliente))\n",
    "#y_train = select(y_train, Not(:numero_de_cliente))\n",
    "\n",
    "#Pasamos a Matriz para entrenamiento\n",
    "#X_train = Matrix(X_train)\n",
    "#y_train = coalesce.(y_train, \"CONTINUA\")\n",
    "#y_train = categorical(y_train)\n",
    "\n",
    "#Preparamos los datos para entrenar como solicita MJL\n",
    "#X_train_tab = Table(X_train)\n",
    "X_train_tab = DataFrame(X_train)\n",
    "\n",
    "\n",
    "# Obtener los niveles de la variable objetivo\n",
    "levels_y = levels(y_train)\n",
    "println(levels_y)\n",
    "# Convertir la variable objetivo en un vector de categorías finitas\n",
    "y_train_cat_finite = CategoricalArray(y_train, levels=levels_y)\n"
   ]
  },
  {
   "cell_type": "code",
   "execution_count": 10,
   "metadata": {},
   "outputs": [
    {
     "ename": "LoadError",
     "evalue": "LoadError: UndefVarError: `@load` not defined\nin expression starting at g:\\Mi unidad\\01-Maestria Ciencia de Datos\\DMEyF\\TPs\\dmeyf2024\\dmeyf2024\\jl_notebook_cell_df34fa98e69747e1a8f8a730347b8e2f_X24sZmlsZQ==.jl:2",
     "output_type": "error",
     "traceback": [
      "LoadError: UndefVarError: `@load` not defined\n",
      "in expression starting at g:\\Mi unidad\\01-Maestria Ciencia de Datos\\DMEyF\\TPs\\dmeyf2024\\dmeyf2024\\jl_notebook_cell_df34fa98e69747e1a8f8a730347b8e2f_X24sZmlsZQ==.jl:2\n"
     ]
    }
   ],
   "source": [
    "#using DecisionTree\n",
    "Tree = @load DecisionTreeClassifier pkg=DecisionTree"
   ]
  },
  {
   "cell_type": "code",
   "execution_count": 19,
   "metadata": {},
   "outputs": [
    {
     "name": "stderr",
     "output_type": "stream",
     "text": [
      "┌ Info: Training machine(DecisionTreeClassifier(max_depth = 7, …), …).\n",
      "└ @ MLJBase C:\\Users\\tschoppj\\.julia\\packages\\MLJBase\\7nGJF\\src\\machines.jl:499\n"
     ]
    },
    {
     "name": "stdout",
     "output_type": "stream",
     "text": [
      " 19.351890 seconds (2.29 k allocations: 799.283 MiB, 0.11% gc time)\n"
     ]
    },
    {
     "data": {
      "text/plain": [
       "trained Machine; caches model-specific representations of data\n",
       "  model: DecisionTreeClassifier(max_depth = 7, …)\n",
       "  args: \n",
       "    1:\tSource @208 ⏎ Table{Union{AbstractVector{Continuous}, AbstractVector{Count}}}\n",
       "    2:\tSource @555 ⏎ AbstractVector{Multiclass{3}}\n"
      ]
     },
     "metadata": {},
     "output_type": "display_data"
    }
   ],
   "source": [
    "# Ajustar parámetros\n",
    "max_depth = 7\n",
    "min_samples_split = 250\n",
    "min_samples_leaf = 100\n",
    "\n",
    "tree = Tree(max_depth=max_depth, min_samples_split=min_samples_split, min_samples_leaf=min_samples_leaf)\n",
    "\n",
    "# Crear una máquina con el modelo y los datos de entrenamiento\n",
    "mach = machine(tree, X_train, y_train_cat_finite)\n",
    "\n",
    "# Entrenar el modelo\n",
    "@time fit!(mach)"
   ]
  },
  {
   "cell_type": "markdown",
   "metadata": {},
   "source": [
    "## Preparar df_test para aplicar el modelo"
   ]
  },
  {
   "cell_type": "code",
   "execution_count": 17,
   "metadata": {},
   "outputs": [
    {
     "data": {
      "text/plain": [
       "164876-element CategoricalDistributions.UnivariateFiniteVector{Multiclass{3}, String15, UInt32, Float64}:\n",
       " UnivariateFinite{Multiclass{3}}(BAJA+1=>0.000526, BAJA+2=>0.00123, CONTINUA=>0.998)\n",
       " UnivariateFinite{Multiclass{3}}(BAJA+1=>0.000534, BAJA+2=>0.000672, CONTINUA=>0.999)\n",
       " UnivariateFinite{Multiclass{3}}(BAJA+1=>0.0, BAJA+2=>0.0, CONTINUA=>1.0)\n",
       " UnivariateFinite{Multiclass{3}}(BAJA+1=>0.00969, BAJA+2=>0.0196, CONTINUA=>0.971)\n",
       " UnivariateFinite{Multiclass{3}}(BAJA+1=>0.0, BAJA+2=>0.014, CONTINUA=>0.986)\n",
       " UnivariateFinite{Multiclass{3}}(BAJA+1=>0.000275, BAJA+2=>0.000153, CONTINUA=>1.0)\n",
       " UnivariateFinite{Multiclass{3}}(BAJA+1=>0.0, BAJA+2=>0.00119, CONTINUA=>0.999)\n",
       " UnivariateFinite{Multiclass{3}}(BAJA+1=>0.0, BAJA+2=>0.000312, CONTINUA=>1.0)\n",
       " UnivariateFinite{Multiclass{3}}(BAJA+1=>0.000171, BAJA+2=>9.53e-5, CONTINUA=>1.0)\n",
       " UnivariateFinite{Multiclass{3}}(BAJA+1=>0.0, BAJA+2=>0.000119, CONTINUA=>1.0)\n",
       " ⋮\n",
       " UnivariateFinite{Multiclass{3}}(BAJA+1=>0.00153, BAJA+2=>0.0046, CONTINUA=>0.994)\n",
       " UnivariateFinite{Multiclass{3}}(BAJA+1=>0.00153, BAJA+2=>0.0046, CONTINUA=>0.994)\n",
       " UnivariateFinite{Multiclass{3}}(BAJA+1=>0.00224, BAJA+2=>0.00261, CONTINUA=>0.995)\n",
       " UnivariateFinite{Multiclass{3}}(BAJA+1=>0.00224, BAJA+2=>0.00261, CONTINUA=>0.995)\n",
       " UnivariateFinite{Multiclass{3}}(BAJA+1=>0.00153, BAJA+2=>0.0046, CONTINUA=>0.994)\n",
       " UnivariateFinite{Multiclass{3}}(BAJA+1=>0.00224, BAJA+2=>0.00261, CONTINUA=>0.995)\n",
       " UnivariateFinite{Multiclass{3}}(BAJA+1=>0.00224, BAJA+2=>0.00261, CONTINUA=>0.995)\n",
       " UnivariateFinite{Multiclass{3}}(BAJA+1=>0.00153, BAJA+2=>0.0046, CONTINUA=>0.994)\n",
       " UnivariateFinite{Multiclass{3}}(BAJA+1=>0.0351, BAJA+2=>0.0416, CONTINUA=>0.923)"
      ]
     },
     "metadata": {},
     "output_type": "display_data"
    }
   ],
   "source": [
    "# Suponiendo que las columnas de características son las mismas que X_train\n",
    "# y que ya has tratado los valores faltantes en df_test\n",
    "X_test = select(df_test, Not(:numero_de_cliente, :clase_ternaria))\n",
    "\n",
    "#Se eliminan missing y se remplazan por 0\n",
    "X_test = coalesce.(X_test, 0)\n",
    "\n",
    "# Realizar predicciones en el conjunto de datos de prueba\n",
    "probabilidades = MLJ.predict(mach, X_test)\n",
    "\n"
   ]
  },
  {
   "cell_type": "code",
   "execution_count": 18,
   "metadata": {},
   "outputs": [
    {
     "name": "stdout",
     "output_type": "stream",
     "text": [
      "Predicciones de personas que dejan el Banco: 8514\n"
     ]
    }
   ],
   "source": [
    "# Extraer las probabilidades de la clase positiva (BAJA+2)\n",
    "probabilidades_positivas = [pdf(prob, \"BAJA+2\") for prob in probabilidades]\n",
    "\n",
    "# Establecer el umbral\n",
    "umbral = 1/40\n",
    "\n",
    "# Realizar predicciones con el umbral\n",
    "predicciones_umbral = [prob > umbral ? 1 : 0 for prob in probabilidades_positivas]\n",
    "\n",
    "print(\"Predicciones de personas que dejan el Banco: \")\n",
    "n_unos = sum(predicciones_umbral)\n",
    "println(n_unos)"
   ]
  },
  {
   "cell_type": "code",
   "execution_count": 12,
   "metadata": {},
   "outputs": [
    {
     "ename": "UndefVarError",
     "evalue": "UndefVarError: `predicciones_umbral` not defined",
     "output_type": "error",
     "traceback": [
      "UndefVarError: `predicciones_umbral` not defined\n",
      "\n",
      "Stacktrace:\n",
      " [1] top-level scope\n",
      "   @ g:\\Mi unidad\\01-Maestria Ciencia de Datos\\DMEyF\\TPs\\dmeyf2024\\dmeyf2024\\jl_notebook_cell_df34fa98e69747e1a8f8a730347b8e2f_X23sZmlsZQ==.jl:2"
     ]
    }
   ],
   "source": [
    "# Agregar las predicciones como una nueva columna en df_test\n",
    "df_test[!, :Predicted] = predicciones_umbral\n",
    "\n",
    "# Seleccionar las columnas 'numero_de_cliente' y 'Predicted' para la exportación\n",
    "resultado_exportar = select(df_test, :numero_de_cliente, :Predicted)\n",
    "\n",
    "# Exportar a CSV\n",
    "archivo_numero = \"003\"\n",
    "CSV.write(\"G:/Mi unidad/01-Maestria Ciencia de Datos/DMEyF/exp/KA2001/KJulia_\" * archivo_numero * \".csv\", resultado_exportar)"
   ]
  }
 ],
 "metadata": {
  "kernelspec": {
   "display_name": "Julia 1.10.4",
   "language": "julia",
   "name": "julia-1.10"
  },
  "language_info": {
   "file_extension": ".jl",
   "mimetype": "application/julia",
   "name": "julia",
   "version": "1.10.4"
  }
 },
 "nbformat": 4,
 "nbformat_minor": 2
}
